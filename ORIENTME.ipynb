{
  "nbformat": 4,
  "nbformat_minor": 0,
  "metadata": {
    "colab": {
      "name": "ORIENTME.ipynb",
      "provenance": [],
      "collapsed_sections": [
        "vINPNocJzLfV"
      ],
      "toc_visible": true,
      "authorship_tag": "ABX9TyMHFtjV2FBqs9n5F57GAbO5",
      "include_colab_link": true
    },
    "kernelspec": {
      "name": "python3",
      "display_name": "Python 3"
    }
  },
  "cells": [
    {
      "cell_type": "markdown",
      "metadata": {
        "id": "view-in-github",
        "colab_type": "text"
      },
      "source": [
        "<a href=\"https://colab.research.google.com/github/kjain1810/aicrowd/blob/master/ORIENTME.ipynb\" target=\"_parent\"><img src=\"https://colab.research.google.com/assets/colab-badge.svg\" alt=\"Open In Colab\"/></a>"
      ]
    },
    {
      "cell_type": "markdown",
      "metadata": {
        "id": "VBeRn5rTUjfX",
        "colab_type": "text"
      },
      "source": [
        "#preprocess data before NN"
      ]
    },
    {
      "cell_type": "markdown",
      "metadata": {
        "id": "vINPNocJzLfV",
        "colab_type": "text"
      },
      "source": [
        "##install"
      ]
    },
    {
      "cell_type": "code",
      "metadata": {
        "id": "Z0YpVCoFytAx",
        "colab_type": "code",
        "colab": {}
      },
      "source": [
        "import sys\n",
        "!{sys.executable} -m pip install numpy\n",
        "!{sys.executable} -m pip install pandas\n",
        "!{sys.executable} -m pip install scikit-learn \n",
        "!{sys.executable} -m pip install matplotlib tqdm\n",
        "!{sys.executable} -m pip install opencv-python"
      ],
      "execution_count": null,
      "outputs": []
    },
    {
      "cell_type": "markdown",
      "metadata": {
        "id": "s7OArn6YzSbe",
        "colab_type": "text"
      },
      "source": [
        "##data import"
      ]
    },
    {
      "cell_type": "code",
      "metadata": {
        "id": "78go9jndy1nZ",
        "colab_type": "code",
        "colab": {}
      },
      "source": [
        "# #Donwload the datasets\n",
        "!rm -rf data/\n",
        "!mkdir data/\n",
        "\n",
        "!curl https://s3.eu-central-1.wasabisys.com/aicrowd-practice-challenges/public/orientme/v0.2/training.tar.gz -o data/training.tar.gz\n",
        "!curl https://s3.eu-central-1.wasabisys.com/aicrowd-practice-challenges/public/orientme/v0.2/test.tar.gz -o data/test.tar.gz\n",
        "!curl https://s3.eu-central-1.wasabisys.com/aicrowd-practice-challenges/public/orientme/v0.2/sample_submission.csv -o data/sample_submission.csv\n",
        "!tar xvzf data/training.tar.gz -C data/\n",
        "!tar xvzf data/test.tar.gz -C data/\n"
      ],
      "execution_count": null,
      "outputs": []
    },
    {
      "cell_type": "code",
      "metadata": {
        "id": "iGw2YAq4zU99",
        "colab_type": "code",
        "colab": {}
      },
      "source": [
        "TRAINING_IMAGES_FOLDER = \"data/training/images/\"\n",
        "TRAINING_LABELS_PATH = \"data/training/labels.csv\"\n",
        "TEST_IMAGES_FOLDER = \"data/images\"\n",
        "SAMPLE_SUBMISSION_FILE_PATH = \"data/sample_submission.csv\"\n"
      ],
      "execution_count": null,
      "outputs": []
    },
    {
      "cell_type": "markdown",
      "metadata": {
        "id": "iTzgeKWQzrfk",
        "colab_type": "text"
      },
      "source": [
        "##import\n"
      ]
    },
    {
      "cell_type": "code",
      "metadata": {
        "id": "_QaV_-1_zhRt",
        "colab_type": "code",
        "colab": {}
      },
      "source": [
        "import os\n",
        "import tqdm\n",
        "\n",
        "import numpy as np\n",
        "import pandas as pd\n",
        "import cv2\n",
        "\n",
        "from PIL import Image\n",
        "\n",
        "from google.colab.patches import cv2_imshow\n",
        "\n",
        "import glob\n",
        "\n",
        "from google.colab import files"
      ],
      "execution_count": null,
      "outputs": []
    },
    {
      "cell_type": "markdown",
      "metadata": {
        "id": "Oc928yrZz631",
        "colab_type": "text"
      },
      "source": [
        "##pre-process data\n"
      ]
    },
    {
      "cell_type": "markdown",
      "metadata": {
        "id": "zSKLs2BMVUT-",
        "colab_type": "text"
      },
      "source": [
        "###get corners of image"
      ]
    },
    {
      "cell_type": "code",
      "metadata": {
        "id": "wvOs8Jj2NLUJ",
        "colab_type": "code",
        "colab": {}
      },
      "source": [
        "def get_corner(image):\n",
        "    morph = im.copy()\n",
        "\n",
        "    kernel = cv2.getStructuringElement(cv2.MORPH_RECT, (1, 1))\n",
        "    morph = cv2.morphologyEx(morph, cv2.MORPH_CLOSE, kernel)\n",
        "    morph = cv2.morphologyEx(morph, cv2.MORPH_OPEN, kernel)\n",
        "\n",
        "    kernel = cv2.getStructuringElement(cv2.MORPH_RECT, (2, 2))\n",
        "\n",
        "    gradient_image = cv2.morphologyEx(morph, cv2.MORPH_GRADIENT, kernel)\n",
        "\n",
        "    image_channels = np.split(np.asarray(gradient_image), 3, axis=2)\n",
        "\n",
        "    channel_height, channel_width, _ = image_channels[0].shape\n",
        "\n",
        "    for i in range(0, 3):\n",
        "        _, image_channels[i] = cv2.threshold(~image_channels[i], 0, 255, cv2.THRESH_OTSU | cv2.THRESH_BINARY)\n",
        "        image_channels[i] = np.reshape(image_channels[i], newshape=(channel_height, channel_width, 1))\n",
        "\n",
        "    image_channels = np.concatenate((image_channels[0], image_channels[1], image_channels[2]), axis=2)\n",
        "\n",
        "    lower = np.array([0, 0, 0])\n",
        "    upper = np.array([254, 254, 254])\n",
        "    ret = cv2.inRange(image_channels, lower, upper)\n",
        "    return ret"
      ],
      "execution_count": null,
      "outputs": []
    },
    {
      "cell_type": "markdown",
      "metadata": {
        "id": "P_xjH4y6VHvH",
        "colab_type": "text"
      },
      "source": [
        "###counting colors"
      ]
    },
    {
      "cell_type": "code",
      "metadata": {
        "id": "PYXHgon7KFlW",
        "colab_type": "code",
        "colab": {}
      },
      "source": [
        "def count_red(image, debug=False):\n",
        "    img_hsv = cv2.cvtColor(im, cv2.COLOR_BGR2HSV)\n",
        "    \n",
        "    lower_red = np.array([0,80,100])\n",
        "    upper_red = np.array([5,200,255])\n",
        "    mask0 = cv2.inRange(img_hsv, lower_red, upper_red)\n",
        "    lower_red = np.array([175,80,100])\n",
        "    upper_red = np.array([180,200,255])\n",
        "    mask1 = cv2.inRange(img_hsv, lower_red, upper_red)\n",
        "    mask = mask1 + mask0\n",
        "\n",
        "    maskedge = get_corner(image)\n",
        "\n",
        "    mask = mask - maskedge\n",
        "    mask = np.maximum(mask, np.zeros((512, 512)))\n",
        "    if debug:\n",
        "        print(\"red: \")\n",
        "        cv2_imshow(mask)\n",
        "    num_col = np.sum(mask > 0)\n",
        "    return num_col"
      ],
      "execution_count": null,
      "outputs": []
    },
    {
      "cell_type": "code",
      "metadata": {
        "id": "zCY1hrC4Vawm",
        "colab_type": "code",
        "colab": {}
      },
      "source": [
        "def count_white(image, debug=False):\n",
        "    lower_white = np.array([240, 240, 240])\n",
        "    upper_white = np.array([255, 255, 255])\n",
        "    mask = cv2.inRange(im, lower_white, upper_white)\n",
        "    num_col = np.sum(mask > 0)\n",
        "    if debug:\n",
        "        print(\"white: \")\n",
        "        cv2_imshow(mask)\n",
        "    return num_col"
      ],
      "execution_count": null,
      "outputs": []
    },
    {
      "cell_type": "code",
      "metadata": {
        "id": "PFRtkvWvVeJ1",
        "colab_type": "code",
        "colab": {}
      },
      "source": [
        "def count_blue(image, debug=False):\n",
        "    img_hsv = cv2.cvtColor(im, cv2.COLOR_BGR2HSV)\n",
        "    lower_blue=np.array([110, 150, 80],np.uint8)\n",
        "    upper_blue=np.array([120, 220, 255],np.uint8)\n",
        "    mask = cv2.inRange(img_hsv, lower_blue, upper_blue)\n",
        "    if debug:\n",
        "        print(\"blue: \")\n",
        "        cv2_imshow(mask)\n",
        "    num_col = np.sum(mask > 0)\n",
        "    return num_col"
      ],
      "execution_count": null,
      "outputs": []
    },
    {
      "cell_type": "code",
      "metadata": {
        "id": "fHo9NBeoVibI",
        "colab_type": "code",
        "colab": {}
      },
      "source": [
        "def count_orange(image, debug=False):\n",
        "    img_hsv = cv2.cvtColor(im, cv2.COLOR_BGR2HSV)\n",
        "    \n",
        "    lower_red = np.array([5,50,50])\n",
        "    upper_red = np.array([15,255,255])\n",
        "    mask0 = cv2.inRange(img_hsv, lower_red, upper_red)\n",
        "    lower_red = np.array([165,50,50])\n",
        "    upper_red = np.array([175,255,255])\n",
        "    mask1 = cv2.inRange(img_hsv, lower_red, upper_red)\n",
        "    mask = mask1 + mask0\n",
        "\n",
        "    maskedge = get_corner(image)\n",
        "\n",
        "    mask = mask - maskedge\n",
        "    mask = np.maximum(mask, np.zeros((512, 512)))\n",
        "    if debug:\n",
        "        print(\"orange: \")\n",
        "        cv2_imshow(mask)\n",
        "    num_col = np.sum(mask > 0)\n",
        "    return num_col"
      ],
      "execution_count": null,
      "outputs": []
    },
    {
      "cell_type": "code",
      "metadata": {
        "id": "u1Sr0b_5VvcP",
        "colab_type": "code",
        "colab": {}
      },
      "source": [
        "def count_green(image, debug=False):\n",
        "    img_hsv = cv2.cvtColor(im, cv2.COLOR_BGR2HSV)\n",
        "    lower_yellow=np.array([50, 100, 40],np.uint8)\n",
        "    upper_yellow=np.array([70, 255, 255],np.uint8)\n",
        "    mask = cv2.inRange(img_hsv, lower_yellow, upper_yellow)\n",
        "    if debug:\n",
        "        print(\"green: \")\n",
        "        cv2_imshow(mask)\n",
        "    num_col = np.sum(mask > 0)\n",
        "    return num_col"
      ],
      "execution_count": null,
      "outputs": []
    },
    {
      "cell_type": "code",
      "metadata": {
        "id": "_0DH57RuV1bm",
        "colab_type": "code",
        "colab": {}
      },
      "source": [
        "def count_yellow(image, debug=False):\n",
        "    img_hsv = cv2.cvtColor(im, cv2.COLOR_BGR2HSV)\n",
        "    lower_yellow=np.array([20, 100, 100],np.uint8)\n",
        "    upper_yellow=np.array([30, 255, 255],np.uint8)\n",
        "    mask = cv2.inRange(img_hsv, lower_yellow, upper_yellow)\n",
        "    if debug:\n",
        "        print(\"yellow: \")\n",
        "        cv2_imshow(mask)\n",
        "    num_col = np.sum(mask > 0)\n",
        "    return num_col"
      ],
      "execution_count": null,
      "outputs": []
    },
    {
      "cell_type": "markdown",
      "metadata": {
        "id": "WqkgKsiGVNgN",
        "colab_type": "text"
      },
      "source": [
        "###main"
      ]
    },
    {
      "cell_type": "code",
      "metadata": {
        "id": "zk5unIQUcJ3J",
        "colab_type": "code",
        "colab": {}
      },
      "source": [
        "def pre_process_data_X(image):\n",
        "    cols_here = np.zeros((6))\n",
        "    cols_here[0] = count_red(image)\n",
        "    cols_here[1] = count_white(image)\n",
        "    cols_here[2] = count_blue(image)\n",
        "    cols_here[3] = count_yellow(image)\n",
        "    cols_here[4] = count_green(image)\n",
        "    cols_here[5] = count_orange(image)\n",
        "    return cols_here"
      ],
      "execution_count": null,
      "outputs": []
    },
    {
      "cell_type": "code",
      "metadata": {
        "id": "wc12aRbMzw3n",
        "colab_type": "code",
        "colab": {}
      },
      "source": [
        "training_labels_df = pd.read_csv(TRAINING_LABELS_PATH)\n",
        "\n",
        "ALL_DATA = np.zeros((5000, 7))\n",
        "\n",
        "counter = 0\n",
        "\n",
        "for _idx, row in tqdm.tqdm(training_labels_df.iterrows(), total=training_labels_df.shape[0]):\n",
        "    filepath = os.path.join(\n",
        "        TRAINING_IMAGES_FOLDER,\n",
        "        row.filename\n",
        "    )\n",
        "    im = cv2.imread(filepath)\n",
        "    \n",
        "    data_X = pre_process_data_X(im)\n",
        "    \n",
        "    for i in range(6):\n",
        "        ALL_DATA[counter][i] = data_X[i]\n",
        "    ALL_DATA[counter][6] = row.xRot/360\n",
        "    \n",
        "    counter += 1\n",
        "\n",
        "print(ALL_DATA)"
      ],
      "execution_count": null,
      "outputs": []
    },
    {
      "cell_type": "markdown",
      "metadata": {
        "id": "tVZ7wcMB3wDt",
        "colab_type": "text"
      },
      "source": [
        "##Checking the data"
      ]
    },
    {
      "cell_type": "code",
      "metadata": {
        "id": "QjZafakf0JRd",
        "colab_type": "code",
        "colab": {}
      },
      "source": [
        "for i in range(20):\n",
        "    print(ALL_DATA[i][6])"
      ],
      "execution_count": null,
      "outputs": []
    },
    {
      "cell_type": "code",
      "metadata": {
        "id": "k9iLs88H2KnP",
        "colab_type": "code",
        "colab": {}
      },
      "source": [
        "df = pd.DataFrame(data=ALL_DATA, columns=[\"red\", \"white\", \"blue\", \"yellow\", \"green\", \"orange\", \"xRot\"])"
      ],
      "execution_count": null,
      "outputs": []
    },
    {
      "cell_type": "code",
      "metadata": {
        "id": "3EruD4PF2hLD",
        "colab_type": "code",
        "colab": {}
      },
      "source": [
        "df.head"
      ],
      "execution_count": null,
      "outputs": []
    },
    {
      "cell_type": "markdown",
      "metadata": {
        "id": "hP5--Q8b3zNs",
        "colab_type": "text"
      },
      "source": [
        "###download for future"
      ]
    },
    {
      "cell_type": "code",
      "metadata": {
        "id": "j-zpPM0e3Ebr",
        "colab_type": "code",
        "colab": {}
      },
      "source": [
        "df.to_csv(\"orientme_first_preprocessing.csv\", index=False)"
      ],
      "execution_count": null,
      "outputs": []
    },
    {
      "cell_type": "code",
      "metadata": {
        "id": "WQ0Fzewk3__t",
        "colab_type": "code",
        "colab": {}
      },
      "source": [
        "files.download('orientme_first_preprocessing.csv')"
      ],
      "execution_count": null,
      "outputs": []
    },
    {
      "cell_type": "markdown",
      "metadata": {
        "id": "o1NgA1m-6KuE",
        "colab_type": "text"
      },
      "source": [
        "##load preprocessed data"
      ]
    },
    {
      "cell_type": "code",
      "metadata": {
        "id": "YrHVdxVY4B2k",
        "colab_type": "code",
        "colab": {}
      },
      "source": [
        "data=pd.read_csv(\"orientme_first_preprocessing.csv\")"
      ],
      "execution_count": null,
      "outputs": []
    },
    {
      "cell_type": "code",
      "metadata": {
        "id": "T7oREolk55Ts",
        "colab_type": "code",
        "colab": {}
      },
      "source": [
        "data.head()"
      ],
      "execution_count": null,
      "outputs": []
    },
    {
      "cell_type": "markdown",
      "metadata": {
        "id": "IWHQFA-A7v10",
        "colab_type": "text"
      },
      "source": [
        "##remove noises"
      ]
    },
    {
      "cell_type": "code",
      "metadata": {
        "id": "s3KdbbL456h1",
        "colab_type": "code",
        "colab": {}
      },
      "source": [
        "def remove_noise(row):\n",
        "    # print(row)\n",
        "    indexes = [\"red\", \"white\", \"blue\", \"yellow\", \"green\", \"orange\"]\n",
        "    for x in indexes:\n",
        "        if row[x] <= 1000:\n",
        "            row[x] = 0\n",
        "    return row"
      ],
      "execution_count": null,
      "outputs": []
    },
    {
      "cell_type": "code",
      "metadata": {
        "id": "Il-fq3GwcoST",
        "colab_type": "code",
        "colab": {}
      },
      "source": [
        "data.apply(lambda rw: remove_noise(rw), axis=1)"
      ],
      "execution_count": null,
      "outputs": []
    },
    {
      "cell_type": "code",
      "metadata": {
        "id": "0M__TFhQ6y8V",
        "colab_type": "code",
        "colab": {}
      },
      "source": [
        "data.head(10)"
      ],
      "execution_count": null,
      "outputs": []
    },
    {
      "cell_type": "code",
      "metadata": {
        "id": "x2khTKbJ7ayf",
        "colab_type": "code",
        "colab": {}
      },
      "source": [
        "def remove_orange_noise(row):\n",
        "    if row[\"red\"] - row[\"orange\"] >= 2000:\n",
        "        row[\"orange\"] = 0\n",
        "    elif row[\"orange\"] - row[\"red\"] >= 1000:\n",
        "        row[\"red\"] = 0\n",
        "    return row"
      ],
      "execution_count": null,
      "outputs": []
    },
    {
      "cell_type": "code",
      "metadata": {
        "id": "zzMqihZScsaY",
        "colab_type": "code",
        "colab": {}
      },
      "source": [
        "data.apply(lambda rw: remove_orange_noise(rw), axis=1)"
      ],
      "execution_count": null,
      "outputs": []
    },
    {
      "cell_type": "code",
      "metadata": {
        "id": "6LKN8mJA72AV",
        "colab_type": "code",
        "colab": {}
      },
      "source": [
        "data.loc[data[\"orange\"] >= 5000].loc[data[\"orange\"] <= 9000]"
      ],
      "execution_count": null,
      "outputs": []
    },
    {
      "cell_type": "code",
      "metadata": {
        "id": "CusQKVGt8d7l",
        "colab_type": "code",
        "colab": {}
      },
      "source": [
        "def remove_red_when_orange(row):\n",
        "    if row[\"orange\"] >= 5000:\n",
        "        row[\"red\"] = 0\n",
        "    return row"
      ],
      "execution_count": null,
      "outputs": []
    },
    {
      "cell_type": "code",
      "metadata": {
        "id": "mdedAEZScu5Y",
        "colab_type": "code",
        "colab": {}
      },
      "source": [
        "data.apply(lambda rw: remove_red_when_orange(rw), axis=1)"
      ],
      "execution_count": null,
      "outputs": []
    },
    {
      "cell_type": "markdown",
      "metadata": {
        "id": "p6jvGsvz9kUd",
        "colab_type": "text"
      },
      "source": [
        "##download this data now"
      ]
    },
    {
      "cell_type": "code",
      "metadata": {
        "id": "XCLDTp4Z9aGY",
        "colab_type": "code",
        "colab": {}
      },
      "source": [
        "data.to_csv(\"orientme_second_preprocessing.csv\", index=False)"
      ],
      "execution_count": null,
      "outputs": []
    },
    {
      "cell_type": "code",
      "metadata": {
        "id": "EHDgFCHx9wsN",
        "colab_type": "code",
        "colab": {}
      },
      "source": [
        "files.download('orientme_second_preprocessing.csv')"
      ],
      "execution_count": null,
      "outputs": []
    },
    {
      "cell_type": "markdown",
      "metadata": {
        "id": "lv2-IVRtWU5W",
        "colab_type": "text"
      },
      "source": [
        "##preprocess test set"
      ]
    },
    {
      "cell_type": "code",
      "metadata": {
        "id": "j6RAeG0JWPiP",
        "colab_type": "code",
        "colab": {}
      },
      "source": [
        "TEST_DATA = np.zeros((5001, 6))\n",
        "TEST_FILENAMES = []\n",
        "\n",
        "counter = 0\n",
        "\n",
        "for _test_image_path in tqdm.tqdm(glob.glob(os.path.join(TEST_IMAGES_FOLDER, \"*.jpg\"))):\n",
        "    filename = os.path.basename(_test_image_path)\n",
        "    im = cv2.imread(_test_image_path)\n",
        "    \n",
        "    data_X = pre_process_data_X(im)\n",
        "    for i in range(6):\n",
        "        TEST_DATA[counter][i] = data_X[i]\n",
        "    counter += 1\n",
        "    # TEST_DATA.append(data_X)\n",
        "    TEST_FILENAMES.append(filename)\n"
      ],
      "execution_count": null,
      "outputs": []
    },
    {
      "cell_type": "code",
      "metadata": {
        "id": "1vAVTmXHdhKr",
        "colab_type": "code",
        "colab": {}
      },
      "source": [
        "TEST_DATA = TEST_DATA.astype(int)"
      ],
      "execution_count": null,
      "outputs": []
    },
    {
      "cell_type": "code",
      "metadata": {
        "id": "D_lSlqUReoZo",
        "colab_type": "code",
        "colab": {}
      },
      "source": [
        "print(TEST_DATA)"
      ],
      "execution_count": null,
      "outputs": []
    },
    {
      "cell_type": "code",
      "metadata": {
        "id": "XhD30m1eeFYj",
        "colab_type": "code",
        "colab": {}
      },
      "source": [
        "test_dataframe = pd.DataFrame(data=TEST_DATA, columns=[\"red\", \"white\", \"blue\", \"yellow\", \"green\", \"orange\"])\n",
        "test_dataframe[\"filename\"] = TEST_FILENAMES"
      ],
      "execution_count": null,
      "outputs": []
    },
    {
      "cell_type": "code",
      "metadata": {
        "id": "ZHikmU3deZMJ",
        "colab_type": "code",
        "colab": {}
      },
      "source": [
        "test_dataframe.head()"
      ],
      "execution_count": null,
      "outputs": []
    },
    {
      "cell_type": "code",
      "metadata": {
        "id": "W2lsxflaeaoY",
        "colab_type": "code",
        "colab": {}
      },
      "source": [
        "test_dataframe.to_csv(\"orientme_testdata_first_preprocessing.csv\", index=False)"
      ],
      "execution_count": null,
      "outputs": []
    },
    {
      "cell_type": "code",
      "metadata": {
        "id": "qYPkYjIIe1MY",
        "colab_type": "code",
        "colab": {}
      },
      "source": [
        "files.download(\"orientme_testdata_first_preprocessing.csv\")"
      ],
      "execution_count": null,
      "outputs": []
    },
    {
      "cell_type": "code",
      "metadata": {
        "id": "L8EhC7foe8-B",
        "colab_type": "code",
        "colab": {}
      },
      "source": [
        "df=pd.read_csv(\"/content/orientme_testdata_first_preprocessing.csv\")"
      ],
      "execution_count": null,
      "outputs": []
    },
    {
      "cell_type": "code",
      "metadata": {
        "id": "dgTcdrITQ506",
        "colab_type": "code",
        "colab": {}
      },
      "source": [
        "df.loc[df[\"orange\"]<5000]"
      ],
      "execution_count": null,
      "outputs": []
    },
    {
      "cell_type": "code",
      "metadata": {
        "id": "yHjM84qZQ_vN",
        "colab_type": "code",
        "colab": {}
      },
      "source": [
        "df.apply(lambda rw: remove_noise(rw), axis=1)"
      ],
      "execution_count": null,
      "outputs": []
    },
    {
      "cell_type": "code",
      "metadata": {
        "id": "ITIFW1ICTbZ1",
        "colab_type": "code",
        "colab": {}
      },
      "source": [
        "df.loc[df[\"red\"] <= 1000]"
      ],
      "execution_count": null,
      "outputs": []
    },
    {
      "cell_type": "code",
      "metadata": {
        "id": "goOX-NhnTcLz",
        "colab_type": "code",
        "colab": {}
      },
      "source": [
        "df.apply(lambda rw: remove_orange_noise(rw), axis=1)"
      ],
      "execution_count": null,
      "outputs": []
    },
    {
      "cell_type": "code",
      "metadata": {
        "id": "bdHGtf8DTqHs",
        "colab_type": "code",
        "colab": {}
      },
      "source": [
        "df.apply(lambda rw: remove_red_when_orange(rw), axis=1)"
      ],
      "execution_count": null,
      "outputs": []
    },
    {
      "cell_type": "markdown",
      "metadata": {
        "id": "Jf7ijugbTwDc",
        "colab_type": "text"
      },
      "source": [
        "###download after second preprocess"
      ]
    },
    {
      "cell_type": "code",
      "metadata": {
        "id": "VW2y1IsQToCr",
        "colab_type": "code",
        "colab": {}
      },
      "source": [
        "df.to_csv(\"orientme_testdata_second_preprocessing.csv\")"
      ],
      "execution_count": null,
      "outputs": []
    },
    {
      "cell_type": "code",
      "metadata": {
        "id": "1lR3Xs5xT6Br",
        "colab_type": "code",
        "colab": {}
      },
      "source": [
        "files.download(\"orientme_testdata_second_preprocessing.csv\")"
      ],
      "execution_count": null,
      "outputs": []
    },
    {
      "cell_type": "markdown",
      "metadata": {
        "id": "S-i4K92H98dW",
        "colab_type": "text"
      },
      "source": [
        "#NN"
      ]
    },
    {
      "cell_type": "markdown",
      "metadata": {
        "id": "1X5hb_eTVW_E",
        "colab_type": "text"
      },
      "source": [
        "##imports"
      ]
    },
    {
      "cell_type": "code",
      "metadata": {
        "id": "5U4N8CjmVZK7",
        "colab_type": "code",
        "colab": {}
      },
      "source": [
        "import os\n",
        "import tqdm\n",
        "\n",
        "import numpy as np\n",
        "import pandas as pd\n",
        "import cv2\n",
        "\n",
        "import glob\n",
        "\n",
        "from google.colab import files\n",
        "\n",
        "from sklearn.model_selection import train_test_split\n",
        "\n",
        "from keras.models import Sequential\n",
        "from keras.layers import Dense\n",
        "import plotly.graph_objects as go"
      ],
      "execution_count": null,
      "outputs": []
    },
    {
      "cell_type": "markdown",
      "metadata": {
        "id": "2DcknJM7K189",
        "colab_type": "text"
      },
      "source": [
        "##load preprocessed data"
      ]
    },
    {
      "cell_type": "code",
      "metadata": {
        "id": "CpGxSeY49zKu",
        "colab_type": "code",
        "colab": {}
      },
      "source": [
        "train = pd.read_csv(\"orientme_first_preprocessing.csv\");\n",
        "test = pd.read_csv(\"orientme_testdata_first_preprocessing.csv\")"
      ],
      "execution_count": 163,
      "outputs": []
    },
    {
      "cell_type": "code",
      "metadata": {
        "id": "GdOadE0mKjSC",
        "colab_type": "code",
        "colab": {
          "base_uri": "https://localhost:8080/",
          "height": 204
        },
        "outputId": "33c69b14-3ad6-4379-eafc-74aaa003e76c"
      },
      "source": [
        "train.head()"
      ],
      "execution_count": 164,
      "outputs": [
        {
          "output_type": "execute_result",
          "data": {
            "text/html": [
              "<div>\n",
              "<style scoped>\n",
              "    .dataframe tbody tr th:only-of-type {\n",
              "        vertical-align: middle;\n",
              "    }\n",
              "\n",
              "    .dataframe tbody tr th {\n",
              "        vertical-align: top;\n",
              "    }\n",
              "\n",
              "    .dataframe thead th {\n",
              "        text-align: right;\n",
              "    }\n",
              "</style>\n",
              "<table border=\"1\" class=\"dataframe\">\n",
              "  <thead>\n",
              "    <tr style=\"text-align: right;\">\n",
              "      <th></th>\n",
              "      <th>red</th>\n",
              "      <th>white</th>\n",
              "      <th>blue</th>\n",
              "      <th>yellow</th>\n",
              "      <th>green</th>\n",
              "      <th>orange</th>\n",
              "      <th>xRot</th>\n",
              "    </tr>\n",
              "  </thead>\n",
              "  <tbody>\n",
              "    <tr>\n",
              "      <th>0</th>\n",
              "      <td>6643.0</td>\n",
              "      <td>26875.0</td>\n",
              "      <td>0.0</td>\n",
              "      <td>0.0</td>\n",
              "      <td>3450.0</td>\n",
              "      <td>4837.0</td>\n",
              "      <td>0.935664</td>\n",
              "    </tr>\n",
              "    <tr>\n",
              "      <th>1</th>\n",
              "      <td>2910.0</td>\n",
              "      <td>0.0</td>\n",
              "      <td>21659.0</td>\n",
              "      <td>15035.0</td>\n",
              "      <td>2.0</td>\n",
              "      <td>3433.0</td>\n",
              "      <td>0.412457</td>\n",
              "    </tr>\n",
              "    <tr>\n",
              "      <th>2</th>\n",
              "      <td>30738.0</td>\n",
              "      <td>0.0</td>\n",
              "      <td>0.0</td>\n",
              "      <td>3119.0</td>\n",
              "      <td>4922.0</td>\n",
              "      <td>5547.0</td>\n",
              "      <td>0.680060</td>\n",
              "    </tr>\n",
              "    <tr>\n",
              "      <th>3</th>\n",
              "      <td>27567.0</td>\n",
              "      <td>0.0</td>\n",
              "      <td>71.0</td>\n",
              "      <td>10954.0</td>\n",
              "      <td>407.0</td>\n",
              "      <td>4720.0</td>\n",
              "      <td>0.618613</td>\n",
              "    </tr>\n",
              "    <tr>\n",
              "      <th>4</th>\n",
              "      <td>9341.0</td>\n",
              "      <td>0.0</td>\n",
              "      <td>12511.0</td>\n",
              "      <td>19476.0</td>\n",
              "      <td>16.0</td>\n",
              "      <td>4065.0</td>\n",
              "      <td>0.478773</td>\n",
              "    </tr>\n",
              "  </tbody>\n",
              "</table>\n",
              "</div>"
            ],
            "text/plain": [
              "       red    white     blue   yellow   green  orange      xRot\n",
              "0   6643.0  26875.0      0.0      0.0  3450.0  4837.0  0.935664\n",
              "1   2910.0      0.0  21659.0  15035.0     2.0  3433.0  0.412457\n",
              "2  30738.0      0.0      0.0   3119.0  4922.0  5547.0  0.680060\n",
              "3  27567.0      0.0     71.0  10954.0   407.0  4720.0  0.618613\n",
              "4   9341.0      0.0  12511.0  19476.0    16.0  4065.0  0.478773"
            ]
          },
          "metadata": {
            "tags": []
          },
          "execution_count": 164
        }
      ]
    },
    {
      "cell_type": "code",
      "metadata": {
        "id": "sBYPWFOTWAXG",
        "colab_type": "code",
        "colab": {
          "base_uri": "https://localhost:8080/",
          "height": 204
        },
        "outputId": "8759f192-3255-43d2-fda6-0a8ce3ff7260"
      },
      "source": [
        "test.head()"
      ],
      "execution_count": 165,
      "outputs": [
        {
          "output_type": "execute_result",
          "data": {
            "text/html": [
              "<div>\n",
              "<style scoped>\n",
              "    .dataframe tbody tr th:only-of-type {\n",
              "        vertical-align: middle;\n",
              "    }\n",
              "\n",
              "    .dataframe tbody tr th {\n",
              "        vertical-align: top;\n",
              "    }\n",
              "\n",
              "    .dataframe thead th {\n",
              "        text-align: right;\n",
              "    }\n",
              "</style>\n",
              "<table border=\"1\" class=\"dataframe\">\n",
              "  <thead>\n",
              "    <tr style=\"text-align: right;\">\n",
              "      <th></th>\n",
              "      <th>red</th>\n",
              "      <th>white</th>\n",
              "      <th>blue</th>\n",
              "      <th>yellow</th>\n",
              "      <th>green</th>\n",
              "      <th>orange</th>\n",
              "      <th>filename</th>\n",
              "    </tr>\n",
              "  </thead>\n",
              "  <tbody>\n",
              "    <tr>\n",
              "      <th>0</th>\n",
              "      <td>2510</td>\n",
              "      <td>0</td>\n",
              "      <td>23147</td>\n",
              "      <td>13010</td>\n",
              "      <td>1</td>\n",
              "      <td>3094</td>\n",
              "      <td>009805.jpg</td>\n",
              "    </tr>\n",
              "    <tr>\n",
              "      <th>1</th>\n",
              "      <td>10915</td>\n",
              "      <td>228</td>\n",
              "      <td>24357</td>\n",
              "      <td>0</td>\n",
              "      <td>11</td>\n",
              "      <td>10048</td>\n",
              "      <td>009738.jpg</td>\n",
              "    </tr>\n",
              "    <tr>\n",
              "      <th>2</th>\n",
              "      <td>28531</td>\n",
              "      <td>222</td>\n",
              "      <td>0</td>\n",
              "      <td>0</td>\n",
              "      <td>11853</td>\n",
              "      <td>5424</td>\n",
              "      <td>008471.jpg</td>\n",
              "    </tr>\n",
              "    <tr>\n",
              "      <th>3</th>\n",
              "      <td>9985</td>\n",
              "      <td>917</td>\n",
              "      <td>15056</td>\n",
              "      <td>0</td>\n",
              "      <td>17</td>\n",
              "      <td>8764</td>\n",
              "      <td>008284.jpg</td>\n",
              "    </tr>\n",
              "    <tr>\n",
              "      <th>4</th>\n",
              "      <td>24544</td>\n",
              "      <td>0</td>\n",
              "      <td>145</td>\n",
              "      <td>15079</td>\n",
              "      <td>96</td>\n",
              "      <td>4428</td>\n",
              "      <td>006827.jpg</td>\n",
              "    </tr>\n",
              "  </tbody>\n",
              "</table>\n",
              "</div>"
            ],
            "text/plain": [
              "     red  white   blue  yellow  green  orange    filename\n",
              "0   2510      0  23147   13010      1    3094  009805.jpg\n",
              "1  10915    228  24357       0     11   10048  009738.jpg\n",
              "2  28531    222      0       0  11853    5424  008471.jpg\n",
              "3   9985    917  15056       0     17    8764  008284.jpg\n",
              "4  24544      0    145   15079     96    4428  006827.jpg"
            ]
          },
          "metadata": {
            "tags": []
          },
          "execution_count": 165
        }
      ]
    },
    {
      "cell_type": "markdown",
      "metadata": {
        "id": "y-MQyGaNLfBl",
        "colab_type": "text"
      },
      "source": [
        "##split traintest"
      ]
    },
    {
      "cell_type": "code",
      "metadata": {
        "id": "GFhKy6hWLekW",
        "colab_type": "code",
        "colab": {}
      },
      "source": [
        "training_set, validation_set= train_test_split(train, test_size=0.2, random_state=42)"
      ],
      "execution_count": 166,
      "outputs": []
    },
    {
      "cell_type": "code",
      "metadata": {
        "id": "sK_oynm-LwTd",
        "colab_type": "code",
        "colab": {}
      },
      "source": [
        "X_train,y_train = training_set.iloc[:,:-1],training_set.iloc[:,-1]\n",
        "X_val,y_val = validation_set.iloc[:,:-1],validation_set.iloc[:,-1]\n"
      ],
      "execution_count": 167,
      "outputs": []
    },
    {
      "cell_type": "code",
      "metadata": {
        "id": "J4cWtVWbMbwe",
        "colab_type": "code",
        "colab": {
          "base_uri": "https://localhost:8080/",
          "height": 34
        },
        "outputId": "f054f181-30ed-4ec1-e784-709c29109480"
      },
      "source": [
        "X_val.shape"
      ],
      "execution_count": 168,
      "outputs": [
        {
          "output_type": "execute_result",
          "data": {
            "text/plain": [
              "(1000, 6)"
            ]
          },
          "metadata": {
            "tags": []
          },
          "execution_count": 168
        }
      ]
    },
    {
      "cell_type": "code",
      "metadata": {
        "id": "bJocQVopbBzO",
        "colab_type": "code",
        "colab": {}
      },
      "source": [
        "file_names = test[\"filename\"]"
      ],
      "execution_count": 169,
      "outputs": []
    },
    {
      "cell_type": "code",
      "metadata": {
        "id": "FdLhx08xbGn2",
        "colab_type": "code",
        "colab": {
          "base_uri": "https://localhost:8080/",
          "height": 119
        },
        "outputId": "dbfd3f9a-67f9-45f7-9ff9-a362aabecd0f"
      },
      "source": [
        "file_names.head()"
      ],
      "execution_count": 170,
      "outputs": [
        {
          "output_type": "execute_result",
          "data": {
            "text/plain": [
              "0    009805.jpg\n",
              "1    009738.jpg\n",
              "2    008471.jpg\n",
              "3    008284.jpg\n",
              "4    006827.jpg\n",
              "Name: filename, dtype: object"
            ]
          },
          "metadata": {
            "tags": []
          },
          "execution_count": 170
        }
      ]
    },
    {
      "cell_type": "code",
      "metadata": {
        "id": "yrKTmOwpbL7F",
        "colab_type": "code",
        "colab": {}
      },
      "source": [
        "test = test.drop(columns=[\"filename\"])"
      ],
      "execution_count": 171,
      "outputs": []
    },
    {
      "cell_type": "code",
      "metadata": {
        "id": "2_jrNr3vbifU",
        "colab_type": "code",
        "colab": {}
      },
      "source": [
        "test = test.loc[:, ~test.columns.str.contains('^Unnamed')]\n"
      ],
      "execution_count": 172,
      "outputs": []
    },
    {
      "cell_type": "code",
      "metadata": {
        "id": "XQQtNTPgbjx2",
        "colab_type": "code",
        "colab": {
          "base_uri": "https://localhost:8080/",
          "height": 204
        },
        "outputId": "9473b8d5-c742-4321-a04d-c2a70c918cc0"
      },
      "source": [
        "test.head()"
      ],
      "execution_count": 173,
      "outputs": [
        {
          "output_type": "execute_result",
          "data": {
            "text/html": [
              "<div>\n",
              "<style scoped>\n",
              "    .dataframe tbody tr th:only-of-type {\n",
              "        vertical-align: middle;\n",
              "    }\n",
              "\n",
              "    .dataframe tbody tr th {\n",
              "        vertical-align: top;\n",
              "    }\n",
              "\n",
              "    .dataframe thead th {\n",
              "        text-align: right;\n",
              "    }\n",
              "</style>\n",
              "<table border=\"1\" class=\"dataframe\">\n",
              "  <thead>\n",
              "    <tr style=\"text-align: right;\">\n",
              "      <th></th>\n",
              "      <th>red</th>\n",
              "      <th>white</th>\n",
              "      <th>blue</th>\n",
              "      <th>yellow</th>\n",
              "      <th>green</th>\n",
              "      <th>orange</th>\n",
              "    </tr>\n",
              "  </thead>\n",
              "  <tbody>\n",
              "    <tr>\n",
              "      <th>0</th>\n",
              "      <td>2510</td>\n",
              "      <td>0</td>\n",
              "      <td>23147</td>\n",
              "      <td>13010</td>\n",
              "      <td>1</td>\n",
              "      <td>3094</td>\n",
              "    </tr>\n",
              "    <tr>\n",
              "      <th>1</th>\n",
              "      <td>10915</td>\n",
              "      <td>228</td>\n",
              "      <td>24357</td>\n",
              "      <td>0</td>\n",
              "      <td>11</td>\n",
              "      <td>10048</td>\n",
              "    </tr>\n",
              "    <tr>\n",
              "      <th>2</th>\n",
              "      <td>28531</td>\n",
              "      <td>222</td>\n",
              "      <td>0</td>\n",
              "      <td>0</td>\n",
              "      <td>11853</td>\n",
              "      <td>5424</td>\n",
              "    </tr>\n",
              "    <tr>\n",
              "      <th>3</th>\n",
              "      <td>9985</td>\n",
              "      <td>917</td>\n",
              "      <td>15056</td>\n",
              "      <td>0</td>\n",
              "      <td>17</td>\n",
              "      <td>8764</td>\n",
              "    </tr>\n",
              "    <tr>\n",
              "      <th>4</th>\n",
              "      <td>24544</td>\n",
              "      <td>0</td>\n",
              "      <td>145</td>\n",
              "      <td>15079</td>\n",
              "      <td>96</td>\n",
              "      <td>4428</td>\n",
              "    </tr>\n",
              "  </tbody>\n",
              "</table>\n",
              "</div>"
            ],
            "text/plain": [
              "     red  white   blue  yellow  green  orange\n",
              "0   2510      0  23147   13010      1    3094\n",
              "1  10915    228  24357       0     11   10048\n",
              "2  28531    222      0       0  11853    5424\n",
              "3   9985    917  15056       0     17    8764\n",
              "4  24544      0    145   15079     96    4428"
            ]
          },
          "metadata": {
            "tags": []
          },
          "execution_count": 173
        }
      ]
    },
    {
      "cell_type": "markdown",
      "metadata": {
        "id": "hw1TQqLYWUWc",
        "colab_type": "text"
      },
      "source": [
        "##data normalization"
      ]
    },
    {
      "cell_type": "code",
      "metadata": {
        "id": "ApN3VOrgWdCU",
        "colab_type": "code",
        "colab": {}
      },
      "source": [
        "train_col_max = train.max()\n",
        "train_max = train_col_max.max()\n",
        "test_col_max = test.max()\n",
        "test_max = test_col_max.max()\n",
        "total_max = max(test_max, train_max)"
      ],
      "execution_count": 174,
      "outputs": []
    },
    {
      "cell_type": "code",
      "metadata": {
        "id": "Eb6l16gAXF5-",
        "colab_type": "code",
        "colab": {
          "base_uri": "https://localhost:8080/",
          "height": 34
        },
        "outputId": "c18684e6-28a4-4d23-a764-73bec3ff62fe"
      },
      "source": [
        "print(total_max)"
      ],
      "execution_count": 175,
      "outputs": [
        {
          "output_type": "stream",
          "text": [
            "30998.0\n"
          ],
          "name": "stdout"
        }
      ]
    },
    {
      "cell_type": "code",
      "metadata": {
        "id": "RxNT_dLcXIfs",
        "colab_type": "code",
        "colab": {}
      },
      "source": [
        "X_train = X_train / total_max\n",
        "X_val = X_val / total_max\n",
        "test = test / total_max"
      ],
      "execution_count": 176,
      "outputs": []
    },
    {
      "cell_type": "code",
      "metadata": {
        "id": "HbUUtzU3XTmb",
        "colab_type": "code",
        "colab": {
          "base_uri": "https://localhost:8080/",
          "height": 204
        },
        "outputId": "5c3fe185-218c-43f7-a70d-0c00b8c8d9fa"
      },
      "source": [
        "X_train.head()"
      ],
      "execution_count": 177,
      "outputs": [
        {
          "output_type": "execute_result",
          "data": {
            "text/html": [
              "<div>\n",
              "<style scoped>\n",
              "    .dataframe tbody tr th:only-of-type {\n",
              "        vertical-align: middle;\n",
              "    }\n",
              "\n",
              "    .dataframe tbody tr th {\n",
              "        vertical-align: top;\n",
              "    }\n",
              "\n",
              "    .dataframe thead th {\n",
              "        text-align: right;\n",
              "    }\n",
              "</style>\n",
              "<table border=\"1\" class=\"dataframe\">\n",
              "  <thead>\n",
              "    <tr style=\"text-align: right;\">\n",
              "      <th></th>\n",
              "      <th>red</th>\n",
              "      <th>white</th>\n",
              "      <th>blue</th>\n",
              "      <th>yellow</th>\n",
              "      <th>green</th>\n",
              "      <th>orange</th>\n",
              "    </tr>\n",
              "  </thead>\n",
              "  <tbody>\n",
              "    <tr>\n",
              "      <th>4227</th>\n",
              "      <td>0.284889</td>\n",
              "      <td>0.677302</td>\n",
              "      <td>0.355120</td>\n",
              "      <td>0.000000</td>\n",
              "      <td>0.000387</td>\n",
              "      <td>0.238144</td>\n",
              "    </tr>\n",
              "    <tr>\n",
              "      <th>4676</th>\n",
              "      <td>0.171463</td>\n",
              "      <td>0.000000</td>\n",
              "      <td>0.494129</td>\n",
              "      <td>0.600781</td>\n",
              "      <td>0.000290</td>\n",
              "      <td>0.122072</td>\n",
              "    </tr>\n",
              "    <tr>\n",
              "      <th>800</th>\n",
              "      <td>0.169172</td>\n",
              "      <td>0.902155</td>\n",
              "      <td>0.000290</td>\n",
              "      <td>0.000000</td>\n",
              "      <td>0.073682</td>\n",
              "      <td>0.149816</td>\n",
              "    </tr>\n",
              "    <tr>\n",
              "      <th>3671</th>\n",
              "      <td>0.885541</td>\n",
              "      <td>0.000000</td>\n",
              "      <td>0.002194</td>\n",
              "      <td>0.335118</td>\n",
              "      <td>0.012840</td>\n",
              "      <td>0.146784</td>\n",
              "    </tr>\n",
              "    <tr>\n",
              "      <th>4193</th>\n",
              "      <td>0.939835</td>\n",
              "      <td>0.004678</td>\n",
              "      <td>0.000000</td>\n",
              "      <td>0.000000</td>\n",
              "      <td>0.374444</td>\n",
              "      <td>0.176850</td>\n",
              "    </tr>\n",
              "  </tbody>\n",
              "</table>\n",
              "</div>"
            ],
            "text/plain": [
              "           red     white      blue    yellow     green    orange\n",
              "4227  0.284889  0.677302  0.355120  0.000000  0.000387  0.238144\n",
              "4676  0.171463  0.000000  0.494129  0.600781  0.000290  0.122072\n",
              "800   0.169172  0.902155  0.000290  0.000000  0.073682  0.149816\n",
              "3671  0.885541  0.000000  0.002194  0.335118  0.012840  0.146784\n",
              "4193  0.939835  0.004678  0.000000  0.000000  0.374444  0.176850"
            ]
          },
          "metadata": {
            "tags": []
          },
          "execution_count": 177
        }
      ]
    },
    {
      "cell_type": "markdown",
      "metadata": {
        "id": "7HMUi8rzK8H1",
        "colab_type": "text"
      },
      "source": [
        "##train model"
      ]
    },
    {
      "cell_type": "code",
      "metadata": {
        "id": "5cB0r55OK7e1",
        "colab_type": "code",
        "colab": {
          "base_uri": "https://localhost:8080/",
          "height": 323
        },
        "outputId": "4218782d-3fa5-4756-f887-8bcaaa6bedaa"
      },
      "source": [
        "def create_model():\n",
        "    model = Sequential()\n",
        "    model.add(Dense(32, input_dim=6, activation='relu', name='dense_1'))\n",
        "    model.add(Dense(32, activation='relu', name='dense_2'))\n",
        "    model.add(Dense(16, activation='relu', name='dense_3'))\n",
        "    model.add(Dense(8, activation='relu', name='dense_4'))\n",
        "    model.add(Dense(1, activation='sigmoid', name='dense_output'))\n",
        "    model.compile(optimizer='adam', loss='mse', metrics=['mae'])\n",
        "    return model\n",
        "model = Sequential()\n",
        "model = create_model()\n",
        "model.summary()"
      ],
      "execution_count": 178,
      "outputs": [
        {
          "output_type": "stream",
          "text": [
            "Model: \"sequential_28\"\n",
            "_________________________________________________________________\n",
            "Layer (type)                 Output Shape              Param #   \n",
            "=================================================================\n",
            "dense_1 (Dense)              (None, 32)                224       \n",
            "_________________________________________________________________\n",
            "dense_2 (Dense)              (None, 32)                1056      \n",
            "_________________________________________________________________\n",
            "dense_3 (Dense)              (None, 16)                528       \n",
            "_________________________________________________________________\n",
            "dense_4 (Dense)              (None, 8)                 136       \n",
            "_________________________________________________________________\n",
            "dense_output (Dense)         (None, 1)                 9         \n",
            "=================================================================\n",
            "Total params: 1,953\n",
            "Trainable params: 1,953\n",
            "Non-trainable params: 0\n",
            "_________________________________________________________________\n"
          ],
          "name": "stdout"
        }
      ]
    },
    {
      "cell_type": "code",
      "metadata": {
        "id": "Qwr_FvDALUEv",
        "colab_type": "code",
        "colab": {
          "base_uri": "https://localhost:8080/",
          "height": 1000
        },
        "outputId": "e805d84d-4151-4032-8b37-8ea8e16da49e"
      },
      "source": [
        "history = model.fit(X_train, y_train, epochs=100, validation_split=0.05)\n"
      ],
      "execution_count": 182,
      "outputs": [
        {
          "output_type": "stream",
          "text": [
            "Epoch 1/100\n",
            "119/119 [==============================] - 0s 2ms/step - loss: 0.0064 - mae: 0.0187 - val_loss: 5.0043e-04 - val_mae: 0.0061\n",
            "Epoch 2/100\n",
            "119/119 [==============================] - 0s 1ms/step - loss: 0.0032 - mae: 0.0125 - val_loss: 4.1440e-04 - val_mae: 0.0065\n",
            "Epoch 3/100\n",
            "119/119 [==============================] - 0s 1ms/step - loss: 0.0038 - mae: 0.0123 - val_loss: 3.6498e-04 - val_mae: 0.0046\n",
            "Epoch 4/100\n",
            "119/119 [==============================] - 0s 2ms/step - loss: 0.0034 - mae: 0.0110 - val_loss: 0.0012 - val_mae: 0.0057\n",
            "Epoch 5/100\n",
            "119/119 [==============================] - 0s 1ms/step - loss: 0.0033 - mae: 0.0102 - val_loss: 2.3405e-04 - val_mae: 0.0037\n",
            "Epoch 6/100\n",
            "119/119 [==============================] - 0s 1ms/step - loss: 0.0073 - mae: 0.0155 - val_loss: 5.1708e-04 - val_mae: 0.0069\n",
            "Epoch 7/100\n",
            "119/119 [==============================] - 0s 2ms/step - loss: 0.0040 - mae: 0.0134 - val_loss: 6.9009e-04 - val_mae: 0.0056\n",
            "Epoch 8/100\n",
            "119/119 [==============================] - 0s 1ms/step - loss: 0.0037 - mae: 0.0114 - val_loss: 4.1880e-04 - val_mae: 0.0056\n",
            "Epoch 9/100\n",
            "119/119 [==============================] - 0s 1ms/step - loss: 0.0043 - mae: 0.0126 - val_loss: 3.9604e-04 - val_mae: 0.0046\n",
            "Epoch 10/100\n",
            "119/119 [==============================] - 0s 2ms/step - loss: 0.0052 - mae: 0.0134 - val_loss: 5.8531e-04 - val_mae: 0.0062\n",
            "Epoch 11/100\n",
            "119/119 [==============================] - 0s 1ms/step - loss: 0.0043 - mae: 0.0123 - val_loss: 4.0573e-04 - val_mae: 0.0053\n",
            "Epoch 12/100\n",
            "119/119 [==============================] - 0s 2ms/step - loss: 0.0044 - mae: 0.0130 - val_loss: 5.8410e-04 - val_mae: 0.0065\n",
            "Epoch 13/100\n",
            "119/119 [==============================] - 0s 2ms/step - loss: 0.0039 - mae: 0.0108 - val_loss: 0.0015 - val_mae: 0.0068\n",
            "Epoch 14/100\n",
            "119/119 [==============================] - 0s 1ms/step - loss: 0.0037 - mae: 0.0119 - val_loss: 0.0016 - val_mae: 0.0061\n",
            "Epoch 15/100\n",
            "119/119 [==============================] - 0s 1ms/step - loss: 0.0044 - mae: 0.0140 - val_loss: 0.0015 - val_mae: 0.0092\n",
            "Epoch 16/100\n",
            "119/119 [==============================] - 0s 1ms/step - loss: 0.0040 - mae: 0.0125 - val_loss: 4.6770e-04 - val_mae: 0.0045\n",
            "Epoch 17/100\n",
            "119/119 [==============================] - 0s 1ms/step - loss: 0.0032 - mae: 0.0108 - val_loss: 4.5030e-04 - val_mae: 0.0054\n",
            "Epoch 18/100\n",
            "119/119 [==============================] - 0s 2ms/step - loss: 0.0050 - mae: 0.0122 - val_loss: 0.0059 - val_mae: 0.0120\n",
            "Epoch 19/100\n",
            "119/119 [==============================] - 0s 1ms/step - loss: 0.0044 - mae: 0.0126 - val_loss: 4.3310e-04 - val_mae: 0.0049\n",
            "Epoch 20/100\n",
            "119/119 [==============================] - 0s 2ms/step - loss: 0.0042 - mae: 0.0127 - val_loss: 9.2547e-04 - val_mae: 0.0059\n",
            "Epoch 21/100\n",
            "119/119 [==============================] - 0s 2ms/step - loss: 0.0040 - mae: 0.0120 - val_loss: 0.0025 - val_mae: 0.0128\n",
            "Epoch 22/100\n",
            "119/119 [==============================] - 0s 2ms/step - loss: 0.0038 - mae: 0.0117 - val_loss: 7.6338e-04 - val_mae: 0.0078\n",
            "Epoch 23/100\n",
            "119/119 [==============================] - 0s 2ms/step - loss: 0.0039 - mae: 0.0117 - val_loss: 0.0011 - val_mae: 0.0057\n",
            "Epoch 24/100\n",
            "119/119 [==============================] - 0s 2ms/step - loss: 0.0070 - mae: 0.0155 - val_loss: 4.7834e-04 - val_mae: 0.0075\n",
            "Epoch 25/100\n",
            "119/119 [==============================] - 0s 2ms/step - loss: 0.0054 - mae: 0.0146 - val_loss: 7.2212e-04 - val_mae: 0.0064\n",
            "Epoch 26/100\n",
            "119/119 [==============================] - 0s 2ms/step - loss: 0.0040 - mae: 0.0129 - val_loss: 5.8318e-04 - val_mae: 0.0058\n",
            "Epoch 27/100\n",
            "119/119 [==============================] - 0s 1ms/step - loss: 0.0042 - mae: 0.0121 - val_loss: 0.0013 - val_mae: 0.0073\n",
            "Epoch 28/100\n",
            "119/119 [==============================] - 0s 1ms/step - loss: 0.0042 - mae: 0.0130 - val_loss: 0.0018 - val_mae: 0.0069\n",
            "Epoch 29/100\n",
            "119/119 [==============================] - 0s 2ms/step - loss: 0.0040 - mae: 0.0123 - val_loss: 0.0046 - val_mae: 0.0110\n",
            "Epoch 30/100\n",
            "119/119 [==============================] - 0s 1ms/step - loss: 0.0053 - mae: 0.0133 - val_loss: 5.6815e-04 - val_mae: 0.0054\n",
            "Epoch 31/100\n",
            "119/119 [==============================] - 0s 1ms/step - loss: 0.0034 - mae: 0.0117 - val_loss: 6.9522e-04 - val_mae: 0.0052\n",
            "Epoch 32/100\n",
            "119/119 [==============================] - 0s 1ms/step - loss: 0.0040 - mae: 0.0127 - val_loss: 0.0017 - val_mae: 0.0088\n",
            "Epoch 33/100\n",
            "119/119 [==============================] - 0s 2ms/step - loss: 0.0038 - mae: 0.0128 - val_loss: 3.6636e-04 - val_mae: 0.0047\n",
            "Epoch 34/100\n",
            "119/119 [==============================] - 0s 1ms/step - loss: 0.0034 - mae: 0.0105 - val_loss: 7.1901e-04 - val_mae: 0.0073\n",
            "Epoch 35/100\n",
            "119/119 [==============================] - 0s 2ms/step - loss: 0.0056 - mae: 0.0139 - val_loss: 7.3404e-04 - val_mae: 0.0064\n",
            "Epoch 36/100\n",
            "119/119 [==============================] - 0s 1ms/step - loss: 0.0036 - mae: 0.0111 - val_loss: 4.8639e-04 - val_mae: 0.0052\n",
            "Epoch 37/100\n",
            "119/119 [==============================] - 0s 1ms/step - loss: 0.0041 - mae: 0.0118 - val_loss: 0.0017 - val_mae: 0.0064\n",
            "Epoch 38/100\n",
            "119/119 [==============================] - 0s 1ms/step - loss: 0.0036 - mae: 0.0112 - val_loss: 4.2917e-04 - val_mae: 0.0041\n",
            "Epoch 39/100\n",
            "119/119 [==============================] - 0s 1ms/step - loss: 0.0037 - mae: 0.0107 - val_loss: 5.7846e-04 - val_mae: 0.0063\n",
            "Epoch 40/100\n",
            "119/119 [==============================] - 0s 2ms/step - loss: 0.0037 - mae: 0.0106 - val_loss: 6.4216e-04 - val_mae: 0.0084\n",
            "Epoch 41/100\n",
            "119/119 [==============================] - 0s 2ms/step - loss: 0.0056 - mae: 0.0156 - val_loss: 0.0043 - val_mae: 0.0106\n",
            "Epoch 42/100\n",
            "119/119 [==============================] - 0s 2ms/step - loss: 0.0043 - mae: 0.0119 - val_loss: 4.1651e-04 - val_mae: 0.0053\n",
            "Epoch 43/100\n",
            "119/119 [==============================] - 0s 1ms/step - loss: 0.0034 - mae: 0.0116 - val_loss: 0.0012 - val_mae: 0.0066\n",
            "Epoch 44/100\n",
            "119/119 [==============================] - 0s 2ms/step - loss: 0.0034 - mae: 0.0107 - val_loss: 4.3098e-04 - val_mae: 0.0057\n",
            "Epoch 45/100\n",
            "119/119 [==============================] - 0s 1ms/step - loss: 0.0037 - mae: 0.0116 - val_loss: 8.0827e-04 - val_mae: 0.0059\n",
            "Epoch 46/100\n",
            "119/119 [==============================] - 0s 1ms/step - loss: 0.0041 - mae: 0.0118 - val_loss: 0.0035 - val_mae: 0.0093\n",
            "Epoch 47/100\n",
            "119/119 [==============================] - 0s 2ms/step - loss: 0.0046 - mae: 0.0127 - val_loss: 5.2272e-04 - val_mae: 0.0050\n",
            "Epoch 48/100\n",
            "119/119 [==============================] - 0s 2ms/step - loss: 0.0043 - mae: 0.0126 - val_loss: 4.7498e-04 - val_mae: 0.0072\n",
            "Epoch 49/100\n",
            "119/119 [==============================] - 0s 1ms/step - loss: 0.0042 - mae: 0.0119 - val_loss: 7.2012e-04 - val_mae: 0.0052\n",
            "Epoch 50/100\n",
            "119/119 [==============================] - 0s 2ms/step - loss: 0.0034 - mae: 0.0108 - val_loss: 0.0019 - val_mae: 0.0082\n",
            "Epoch 51/100\n",
            "119/119 [==============================] - 0s 2ms/step - loss: 0.0044 - mae: 0.0119 - val_loss: 4.8050e-04 - val_mae: 0.0068\n",
            "Epoch 52/100\n",
            "119/119 [==============================] - 0s 2ms/step - loss: 0.0033 - mae: 0.0107 - val_loss: 0.0011 - val_mae: 0.0054\n",
            "Epoch 53/100\n",
            "119/119 [==============================] - 0s 2ms/step - loss: 0.0039 - mae: 0.0112 - val_loss: 6.3126e-04 - val_mae: 0.0060\n",
            "Epoch 54/100\n",
            "119/119 [==============================] - 0s 2ms/step - loss: 0.0042 - mae: 0.0120 - val_loss: 0.0068 - val_mae: 0.0124\n",
            "Epoch 55/100\n",
            "119/119 [==============================] - 0s 2ms/step - loss: 0.0048 - mae: 0.0143 - val_loss: 0.0016 - val_mae: 0.0077\n",
            "Epoch 56/100\n",
            "119/119 [==============================] - 0s 2ms/step - loss: 0.0035 - mae: 0.0101 - val_loss: 6.6302e-04 - val_mae: 0.0054\n",
            "Epoch 57/100\n",
            "119/119 [==============================] - 0s 2ms/step - loss: 0.0036 - mae: 0.0117 - val_loss: 6.9900e-04 - val_mae: 0.0081\n",
            "Epoch 58/100\n",
            "119/119 [==============================] - 0s 2ms/step - loss: 0.0034 - mae: 0.0114 - val_loss: 7.6502e-04 - val_mae: 0.0059\n",
            "Epoch 59/100\n",
            "119/119 [==============================] - 0s 2ms/step - loss: 0.0047 - mae: 0.0129 - val_loss: 4.2299e-04 - val_mae: 0.0052\n",
            "Epoch 60/100\n",
            "119/119 [==============================] - 0s 2ms/step - loss: 0.0031 - mae: 0.0102 - val_loss: 0.0014 - val_mae: 0.0053\n",
            "Epoch 61/100\n",
            "119/119 [==============================] - 0s 2ms/step - loss: 0.0031 - mae: 0.0103 - val_loss: 4.8609e-04 - val_mae: 0.0048\n",
            "Epoch 62/100\n",
            "119/119 [==============================] - 0s 1ms/step - loss: 0.0029 - mae: 0.0096 - val_loss: 4.1945e-04 - val_mae: 0.0048\n",
            "Epoch 63/100\n",
            "119/119 [==============================] - 0s 1ms/step - loss: 0.0068 - mae: 0.0137 - val_loss: 0.0027 - val_mae: 0.0112\n",
            "Epoch 64/100\n",
            "119/119 [==============================] - 0s 2ms/step - loss: 0.0033 - mae: 0.0114 - val_loss: 0.0019 - val_mae: 0.0075\n",
            "Epoch 65/100\n",
            "119/119 [==============================] - 0s 2ms/step - loss: 0.0039 - mae: 0.0119 - val_loss: 0.0016 - val_mae: 0.0084\n",
            "Epoch 66/100\n",
            "119/119 [==============================] - 0s 1ms/step - loss: 0.0036 - mae: 0.0121 - val_loss: 7.6989e-04 - val_mae: 0.0122\n",
            "Epoch 67/100\n",
            "119/119 [==============================] - 0s 2ms/step - loss: 0.0047 - mae: 0.0135 - val_loss: 3.2547e-04 - val_mae: 0.0045\n",
            "Epoch 68/100\n",
            "119/119 [==============================] - 0s 1ms/step - loss: 0.0034 - mae: 0.0110 - val_loss: 3.7453e-04 - val_mae: 0.0058\n",
            "Epoch 69/100\n",
            "119/119 [==============================] - 0s 1ms/step - loss: 0.0051 - mae: 0.0128 - val_loss: 0.0018 - val_mae: 0.0089\n",
            "Epoch 70/100\n",
            "119/119 [==============================] - 0s 2ms/step - loss: 0.0036 - mae: 0.0120 - val_loss: 5.8817e-04 - val_mae: 0.0078\n",
            "Epoch 71/100\n",
            "119/119 [==============================] - 0s 2ms/step - loss: 0.0037 - mae: 0.0118 - val_loss: 6.4600e-04 - val_mae: 0.0076\n",
            "Epoch 72/100\n",
            "119/119 [==============================] - 0s 2ms/step - loss: 0.0045 - mae: 0.0125 - val_loss: 0.0016 - val_mae: 0.0077\n",
            "Epoch 73/100\n",
            "119/119 [==============================] - 0s 1ms/step - loss: 0.0048 - mae: 0.0134 - val_loss: 0.0031 - val_mae: 0.0093\n",
            "Epoch 74/100\n",
            "119/119 [==============================] - 0s 1ms/step - loss: 0.0040 - mae: 0.0113 - val_loss: 6.5475e-04 - val_mae: 0.0054\n",
            "Epoch 75/100\n",
            "119/119 [==============================] - 0s 2ms/step - loss: 0.0032 - mae: 0.0103 - val_loss: 4.7026e-04 - val_mae: 0.0046\n",
            "Epoch 76/100\n",
            "119/119 [==============================] - 0s 2ms/step - loss: 0.0037 - mae: 0.0112 - val_loss: 9.7567e-04 - val_mae: 0.0072\n",
            "Epoch 77/100\n",
            "119/119 [==============================] - 0s 2ms/step - loss: 0.0038 - mae: 0.0115 - val_loss: 5.3712e-04 - val_mae: 0.0068\n",
            "Epoch 78/100\n",
            "119/119 [==============================] - 0s 2ms/step - loss: 0.0047 - mae: 0.0133 - val_loss: 0.0017 - val_mae: 0.0087\n",
            "Epoch 79/100\n",
            "119/119 [==============================] - 0s 2ms/step - loss: 0.0036 - mae: 0.0112 - val_loss: 0.0013 - val_mae: 0.0057\n",
            "Epoch 80/100\n",
            "119/119 [==============================] - 0s 1ms/step - loss: 0.0035 - mae: 0.0112 - val_loss: 5.5897e-04 - val_mae: 0.0104\n",
            "Epoch 81/100\n",
            "119/119 [==============================] - 0s 2ms/step - loss: 0.0042 - mae: 0.0126 - val_loss: 0.0022 - val_mae: 0.0087\n",
            "Epoch 82/100\n",
            "119/119 [==============================] - 0s 1ms/step - loss: 0.0038 - mae: 0.0130 - val_loss: 4.7818e-04 - val_mae: 0.0059\n",
            "Epoch 83/100\n",
            "119/119 [==============================] - 0s 2ms/step - loss: 0.0040 - mae: 0.0117 - val_loss: 9.0228e-04 - val_mae: 0.0052\n",
            "Epoch 84/100\n",
            "119/119 [==============================] - 0s 2ms/step - loss: 0.0039 - mae: 0.0123 - val_loss: 7.9825e-04 - val_mae: 0.0053\n",
            "Epoch 85/100\n",
            "119/119 [==============================] - 0s 2ms/step - loss: 0.0027 - mae: 0.0089 - val_loss: 0.0015 - val_mae: 0.0069\n",
            "Epoch 86/100\n",
            "119/119 [==============================] - 0s 1ms/step - loss: 0.0035 - mae: 0.0118 - val_loss: 6.7028e-04 - val_mae: 0.0069\n",
            "Epoch 87/100\n",
            "119/119 [==============================] - 0s 1ms/step - loss: 0.0034 - mae: 0.0126 - val_loss: 6.1397e-04 - val_mae: 0.0062\n",
            "Epoch 88/100\n",
            "119/119 [==============================] - 0s 1ms/step - loss: 0.0031 - mae: 0.0122 - val_loss: 0.0011 - val_mae: 0.0067\n",
            "Epoch 89/100\n",
            "119/119 [==============================] - 0s 2ms/step - loss: 0.0038 - mae: 0.0106 - val_loss: 5.3582e-04 - val_mae: 0.0057\n",
            "Epoch 90/100\n",
            "119/119 [==============================] - 0s 2ms/step - loss: 0.0061 - mae: 0.0167 - val_loss: 0.0015 - val_mae: 0.0077\n",
            "Epoch 91/100\n",
            "119/119 [==============================] - 0s 1ms/step - loss: 0.0034 - mae: 0.0111 - val_loss: 5.4779e-04 - val_mae: 0.0052\n",
            "Epoch 92/100\n",
            "119/119 [==============================] - 0s 1ms/step - loss: 0.0050 - mae: 0.0132 - val_loss: 8.8136e-04 - val_mae: 0.0065\n",
            "Epoch 93/100\n",
            "119/119 [==============================] - 0s 1ms/step - loss: 0.0038 - mae: 0.0120 - val_loss: 7.5956e-04 - val_mae: 0.0055\n",
            "Epoch 94/100\n",
            "119/119 [==============================] - 0s 2ms/step - loss: 0.0035 - mae: 0.0109 - val_loss: 0.0012 - val_mae: 0.0069\n",
            "Epoch 95/100\n",
            "119/119 [==============================] - 0s 2ms/step - loss: 0.0049 - mae: 0.0141 - val_loss: 5.6038e-04 - val_mae: 0.0062\n",
            "Epoch 96/100\n",
            "119/119 [==============================] - 0s 2ms/step - loss: 0.0034 - mae: 0.0114 - val_loss: 4.6108e-04 - val_mae: 0.0047\n",
            "Epoch 97/100\n",
            "119/119 [==============================] - 0s 2ms/step - loss: 0.0067 - mae: 0.0162 - val_loss: 6.8771e-04 - val_mae: 0.0079\n",
            "Epoch 98/100\n",
            "119/119 [==============================] - 0s 2ms/step - loss: 0.0040 - mae: 0.0145 - val_loss: 4.9452e-04 - val_mae: 0.0059\n",
            "Epoch 99/100\n",
            "119/119 [==============================] - 0s 2ms/step - loss: 0.0043 - mae: 0.0123 - val_loss: 5.9317e-04 - val_mae: 0.0061\n",
            "Epoch 100/100\n",
            "119/119 [==============================] - 0s 2ms/step - loss: 0.0053 - mae: 0.0132 - val_loss: 0.0013 - val_mae: 0.0069\n"
          ],
          "name": "stdout"
        }
      ]
    },
    {
      "cell_type": "code",
      "metadata": {
        "id": "hHYKg337NI49",
        "colab_type": "code",
        "colab": {
          "base_uri": "https://localhost:8080/",
          "height": 517
        },
        "outputId": "e405732a-81c3-4979-fb3a-9399f79d09dd"
      },
      "source": [
        "fig = go.Figure()\n",
        "fig.add_trace(go.Scattergl(y=history.history['loss'],\n",
        "                    name='Train'))\n",
        "fig.add_trace(go.Scattergl(y=history.history['val_loss'],\n",
        "                    name='Valid'))\n",
        "fig.update_layout(height=500, width=700,\n",
        "                  xaxis_title='Epoch',\n",
        "                  yaxis_title='Loss')\n",
        "fig.show()\n"
      ],
      "execution_count": 183,
      "outputs": [
        {
          "output_type": "display_data",
          "data": {
            "text/html": [
              "<html>\n",
              "<head><meta charset=\"utf-8\" /></head>\n",
              "<body>\n",
              "    <div>\n",
              "            <script src=\"https://cdnjs.cloudflare.com/ajax/libs/mathjax/2.7.5/MathJax.js?config=TeX-AMS-MML_SVG\"></script><script type=\"text/javascript\">if (window.MathJax) {MathJax.Hub.Config({SVG: {font: \"STIX-Web\"}});}</script>\n",
              "                <script type=\"text/javascript\">window.PlotlyConfig = {MathJaxConfig: 'local'};</script>\n",
              "        <script src=\"https://cdn.plot.ly/plotly-latest.min.js\"></script>    \n",
              "            <div id=\"78f12333-a3ee-4b8f-a5fd-8f251b6444de\" class=\"plotly-graph-div\" style=\"height:500px; width:700px;\"></div>\n",
              "            <script type=\"text/javascript\">\n",
              "                \n",
              "                    window.PLOTLYENV=window.PLOTLYENV || {};\n",
              "                    \n",
              "                if (document.getElementById(\"78f12333-a3ee-4b8f-a5fd-8f251b6444de\")) {\n",
              "                    Plotly.newPlot(\n",
              "                        '78f12333-a3ee-4b8f-a5fd-8f251b6444de',\n",
              "                        [{\"name\": \"Train\", \"type\": \"scattergl\", \"y\": [0.006392044480890036, 0.003248138353228569, 0.003839896759018302, 0.003376531880348921, 0.003321670927107334, 0.007285506930202246, 0.003989270888268948, 0.003701150882989168, 0.004286136943846941, 0.005212176591157913, 0.004343392793089151, 0.004431755281984806, 0.0038588433526456356, 0.003717311890795827, 0.004382602404803038, 0.003968649078160524, 0.0032391315326094627, 0.005005980841815472, 0.004388043191283941, 0.004218344576656818, 0.003958882763981819, 0.0038380257319658995, 0.0038885241374373436, 0.006969156209379435, 0.005388965830206871, 0.004034064244478941, 0.004194455686956644, 0.004187873098999262, 0.003980552311986685, 0.0052731819450855255, 0.0034255003556609154, 0.004014558624476194, 0.0038424436934292316, 0.003423987189307809, 0.005588943138718605, 0.0035883672535419464, 0.004107083193957806, 0.003609142964705825, 0.0037109339609742165, 0.0036822676192969084, 0.005598519463092089, 0.00427123811095953, 0.0034307066816836596, 0.003433452220633626, 0.0037263587582856417, 0.004109527450054884, 0.00458779139444232, 0.004336170386523008, 0.00423225574195385, 0.003408770076930523, 0.004399945493787527, 0.003344652708619833, 0.003895243164151907, 0.004227220080792904, 0.004816106520593166, 0.0034603839740157127, 0.0035594948567450047, 0.003400788875296712, 0.004705571103841066, 0.003088124096393585, 0.0031239751260727644, 0.002913965843617916, 0.006769005674868822, 0.0032620918937027454, 0.003914831206202507, 0.003637464717030525, 0.004688231740146875, 0.003436874831095338, 0.0050943163223564625, 0.003610112937167287, 0.003671384882181883, 0.004463676363229752, 0.004795242566615343, 0.003993738442659378, 0.0032228617928922176, 0.003663962008431554, 0.0038006368558853865, 0.004706996027380228, 0.003609698498621583, 0.0035319775342941284, 0.004161249380558729, 0.003757159225642681, 0.0040242113173007965, 0.003905193181708455, 0.0026865226682275534, 0.00352798355743289, 0.003408517222851515, 0.003092248924076557, 0.0037637376226484776, 0.006093157920986414, 0.003445893758907914, 0.004985518753528595, 0.0038063328247517347, 0.003478883532807231, 0.004941465333104134, 0.003421092638745904, 0.006736608222126961, 0.003976121079176664, 0.00432188343256712, 0.005282251164317131]}, {\"name\": \"Valid\", \"type\": \"scattergl\", \"y\": [0.0005004300037398934, 0.00041440234053879976, 0.00036498496774584055, 0.0012342202244326472, 0.000234046412515454, 0.0005170750082470477, 0.000690092274453491, 0.00041880481876432896, 0.0003960350586567074, 0.0005853052716702223, 0.0004057306796312332, 0.0005840983358211815, 0.0015138862654566765, 0.0015773822087794542, 0.0014737456804141402, 0.00046770233893767, 0.00045029574539512396, 0.005859088152647018, 0.0004330998635850847, 0.0009254655451513827, 0.002515633124858141, 0.0007633795612491667, 0.0010665211593732238, 0.0004783397598657757, 0.0007221199339255691, 0.0005831799353472888, 0.0012958793668076396, 0.0017735676374286413, 0.004605588503181934, 0.0005681475740857422, 0.0006952181574888527, 0.0017382374498993158, 0.0003663621610030532, 0.000719005533028394, 0.000734043656848371, 0.00048639479791745543, 0.0016719597624614835, 0.0004291656950954348, 0.0005784607492387295, 0.0006421623402275145, 0.0042826770804822445, 0.0004165110003668815, 0.0012426075991243124, 0.0004309815412852913, 0.0008082719286903739, 0.0034630128648132086, 0.0005227219080552459, 0.00047498010098934174, 0.0007201190455816686, 0.0018779411911964417, 0.00048050162149593234, 0.00105544354300946, 0.0006312623736448586, 0.006813163869082928, 0.0015615064185112715, 0.0006630186107940972, 0.0006989959510974586, 0.0007650229963473976, 0.00042299189954064786, 0.0013784229522570968, 0.00048609302029944956, 0.0004194512730464339, 0.002668074332177639, 0.0018638165201991796, 0.0016070808051154017, 0.0007698929985053837, 0.0003254666517022997, 0.0003745261346921325, 0.0018259480129927397, 0.0005881706019863486, 0.0006460026488639414, 0.0016216099029406905, 0.0030948903877288103, 0.0006547541124746203, 0.00047026245738379657, 0.0009756726212799549, 0.0005371170118451118, 0.0017107990570366383, 0.0012692086165770888, 0.000558974570594728, 0.0021504582837224007, 0.0004781795432791114, 0.0009022761369124055, 0.0007982499082572758, 0.0014969711191952229, 0.0006702836835756898, 0.0006139692850410938, 0.0011497453087940812, 0.0005358249181881547, 0.0014906362630426884, 0.0005477935774251819, 0.0008813618333078921, 0.0007595649221912026, 0.001158265513367951, 0.0005603840108960867, 0.00046108398237265646, 0.0006877144332975149, 0.0004945168038830161, 0.0005931659252382815, 0.0013481113128364086]}],\n",
              "                        {\"height\": 500, \"template\": {\"data\": {\"bar\": [{\"error_x\": {\"color\": \"#2a3f5f\"}, \"error_y\": {\"color\": \"#2a3f5f\"}, \"marker\": {\"line\": {\"color\": \"#E5ECF6\", \"width\": 0.5}}, \"type\": \"bar\"}], \"barpolar\": [{\"marker\": {\"line\": {\"color\": \"#E5ECF6\", \"width\": 0.5}}, \"type\": \"barpolar\"}], \"carpet\": [{\"aaxis\": {\"endlinecolor\": \"#2a3f5f\", \"gridcolor\": \"white\", \"linecolor\": \"white\", \"minorgridcolor\": \"white\", \"startlinecolor\": \"#2a3f5f\"}, \"baxis\": {\"endlinecolor\": \"#2a3f5f\", \"gridcolor\": \"white\", \"linecolor\": \"white\", \"minorgridcolor\": \"white\", \"startlinecolor\": \"#2a3f5f\"}, \"type\": \"carpet\"}], \"choropleth\": [{\"colorbar\": {\"outlinewidth\": 0, \"ticks\": \"\"}, \"type\": \"choropleth\"}], \"contour\": [{\"colorbar\": {\"outlinewidth\": 0, \"ticks\": \"\"}, \"colorscale\": [[0.0, \"#0d0887\"], [0.1111111111111111, \"#46039f\"], [0.2222222222222222, \"#7201a8\"], [0.3333333333333333, \"#9c179e\"], [0.4444444444444444, \"#bd3786\"], [0.5555555555555556, \"#d8576b\"], [0.6666666666666666, \"#ed7953\"], [0.7777777777777778, \"#fb9f3a\"], [0.8888888888888888, \"#fdca26\"], [1.0, \"#f0f921\"]], \"type\": \"contour\"}], \"contourcarpet\": [{\"colorbar\": {\"outlinewidth\": 0, \"ticks\": \"\"}, \"type\": \"contourcarpet\"}], \"heatmap\": [{\"colorbar\": {\"outlinewidth\": 0, \"ticks\": \"\"}, \"colorscale\": [[0.0, \"#0d0887\"], [0.1111111111111111, \"#46039f\"], [0.2222222222222222, \"#7201a8\"], [0.3333333333333333, \"#9c179e\"], [0.4444444444444444, \"#bd3786\"], [0.5555555555555556, \"#d8576b\"], [0.6666666666666666, \"#ed7953\"], [0.7777777777777778, \"#fb9f3a\"], [0.8888888888888888, \"#fdca26\"], [1.0, \"#f0f921\"]], \"type\": \"heatmap\"}], \"heatmapgl\": [{\"colorbar\": {\"outlinewidth\": 0, \"ticks\": \"\"}, \"colorscale\": [[0.0, \"#0d0887\"], [0.1111111111111111, \"#46039f\"], [0.2222222222222222, \"#7201a8\"], [0.3333333333333333, \"#9c179e\"], [0.4444444444444444, \"#bd3786\"], [0.5555555555555556, \"#d8576b\"], [0.6666666666666666, \"#ed7953\"], [0.7777777777777778, \"#fb9f3a\"], [0.8888888888888888, \"#fdca26\"], [1.0, \"#f0f921\"]], \"type\": \"heatmapgl\"}], \"histogram\": [{\"marker\": {\"colorbar\": {\"outlinewidth\": 0, \"ticks\": \"\"}}, \"type\": \"histogram\"}], \"histogram2d\": [{\"colorbar\": {\"outlinewidth\": 0, \"ticks\": \"\"}, \"colorscale\": [[0.0, \"#0d0887\"], [0.1111111111111111, \"#46039f\"], [0.2222222222222222, \"#7201a8\"], [0.3333333333333333, \"#9c179e\"], [0.4444444444444444, \"#bd3786\"], [0.5555555555555556, \"#d8576b\"], [0.6666666666666666, \"#ed7953\"], [0.7777777777777778, \"#fb9f3a\"], [0.8888888888888888, \"#fdca26\"], [1.0, \"#f0f921\"]], \"type\": \"histogram2d\"}], \"histogram2dcontour\": [{\"colorbar\": {\"outlinewidth\": 0, \"ticks\": \"\"}, \"colorscale\": [[0.0, \"#0d0887\"], [0.1111111111111111, \"#46039f\"], [0.2222222222222222, \"#7201a8\"], [0.3333333333333333, \"#9c179e\"], [0.4444444444444444, \"#bd3786\"], [0.5555555555555556, \"#d8576b\"], [0.6666666666666666, \"#ed7953\"], [0.7777777777777778, \"#fb9f3a\"], [0.8888888888888888, \"#fdca26\"], [1.0, \"#f0f921\"]], \"type\": \"histogram2dcontour\"}], \"mesh3d\": [{\"colorbar\": {\"outlinewidth\": 0, \"ticks\": \"\"}, \"type\": \"mesh3d\"}], \"parcoords\": [{\"line\": {\"colorbar\": {\"outlinewidth\": 0, \"ticks\": \"\"}}, \"type\": \"parcoords\"}], \"pie\": [{\"automargin\": true, \"type\": \"pie\"}], \"scatter\": [{\"marker\": {\"colorbar\": {\"outlinewidth\": 0, \"ticks\": \"\"}}, \"type\": \"scatter\"}], \"scatter3d\": [{\"line\": {\"colorbar\": {\"outlinewidth\": 0, \"ticks\": \"\"}}, \"marker\": {\"colorbar\": {\"outlinewidth\": 0, \"ticks\": \"\"}}, \"type\": \"scatter3d\"}], \"scattercarpet\": [{\"marker\": {\"colorbar\": {\"outlinewidth\": 0, \"ticks\": \"\"}}, \"type\": \"scattercarpet\"}], \"scattergeo\": [{\"marker\": {\"colorbar\": {\"outlinewidth\": 0, \"ticks\": \"\"}}, \"type\": \"scattergeo\"}], \"scattergl\": [{\"marker\": {\"colorbar\": {\"outlinewidth\": 0, \"ticks\": \"\"}}, \"type\": \"scattergl\"}], \"scattermapbox\": [{\"marker\": {\"colorbar\": {\"outlinewidth\": 0, \"ticks\": \"\"}}, \"type\": \"scattermapbox\"}], \"scatterpolar\": [{\"marker\": {\"colorbar\": {\"outlinewidth\": 0, \"ticks\": \"\"}}, \"type\": \"scatterpolar\"}], \"scatterpolargl\": [{\"marker\": {\"colorbar\": {\"outlinewidth\": 0, \"ticks\": \"\"}}, \"type\": \"scatterpolargl\"}], \"scatterternary\": [{\"marker\": {\"colorbar\": {\"outlinewidth\": 0, \"ticks\": \"\"}}, \"type\": \"scatterternary\"}], \"surface\": [{\"colorbar\": {\"outlinewidth\": 0, \"ticks\": \"\"}, \"colorscale\": [[0.0, \"#0d0887\"], [0.1111111111111111, \"#46039f\"], [0.2222222222222222, \"#7201a8\"], [0.3333333333333333, \"#9c179e\"], [0.4444444444444444, \"#bd3786\"], [0.5555555555555556, \"#d8576b\"], [0.6666666666666666, \"#ed7953\"], [0.7777777777777778, \"#fb9f3a\"], [0.8888888888888888, \"#fdca26\"], [1.0, \"#f0f921\"]], \"type\": \"surface\"}], \"table\": [{\"cells\": {\"fill\": {\"color\": \"#EBF0F8\"}, \"line\": {\"color\": \"white\"}}, \"header\": {\"fill\": {\"color\": \"#C8D4E3\"}, \"line\": {\"color\": \"white\"}}, \"type\": \"table\"}]}, \"layout\": {\"annotationdefaults\": {\"arrowcolor\": \"#2a3f5f\", \"arrowhead\": 0, \"arrowwidth\": 1}, \"coloraxis\": {\"colorbar\": {\"outlinewidth\": 0, \"ticks\": \"\"}}, \"colorscale\": {\"diverging\": [[0, \"#8e0152\"], [0.1, \"#c51b7d\"], [0.2, \"#de77ae\"], [0.3, \"#f1b6da\"], [0.4, \"#fde0ef\"], [0.5, \"#f7f7f7\"], [0.6, \"#e6f5d0\"], [0.7, \"#b8e186\"], [0.8, \"#7fbc41\"], [0.9, \"#4d9221\"], [1, \"#276419\"]], \"sequential\": [[0.0, \"#0d0887\"], [0.1111111111111111, \"#46039f\"], [0.2222222222222222, \"#7201a8\"], [0.3333333333333333, \"#9c179e\"], [0.4444444444444444, \"#bd3786\"], [0.5555555555555556, \"#d8576b\"], [0.6666666666666666, \"#ed7953\"], [0.7777777777777778, \"#fb9f3a\"], [0.8888888888888888, \"#fdca26\"], [1.0, \"#f0f921\"]], \"sequentialminus\": [[0.0, \"#0d0887\"], [0.1111111111111111, \"#46039f\"], [0.2222222222222222, \"#7201a8\"], [0.3333333333333333, \"#9c179e\"], [0.4444444444444444, \"#bd3786\"], [0.5555555555555556, \"#d8576b\"], [0.6666666666666666, \"#ed7953\"], [0.7777777777777778, \"#fb9f3a\"], [0.8888888888888888, \"#fdca26\"], [1.0, \"#f0f921\"]]}, \"colorway\": [\"#636efa\", \"#EF553B\", \"#00cc96\", \"#ab63fa\", \"#FFA15A\", \"#19d3f3\", \"#FF6692\", \"#B6E880\", \"#FF97FF\", \"#FECB52\"], \"font\": {\"color\": \"#2a3f5f\"}, \"geo\": {\"bgcolor\": \"white\", \"lakecolor\": \"white\", \"landcolor\": \"#E5ECF6\", \"showlakes\": true, \"showland\": true, \"subunitcolor\": \"white\"}, \"hoverlabel\": {\"align\": \"left\"}, \"hovermode\": \"closest\", \"mapbox\": {\"style\": \"light\"}, \"paper_bgcolor\": \"white\", \"plot_bgcolor\": \"#E5ECF6\", \"polar\": {\"angularaxis\": {\"gridcolor\": \"white\", \"linecolor\": \"white\", \"ticks\": \"\"}, \"bgcolor\": \"#E5ECF6\", \"radialaxis\": {\"gridcolor\": \"white\", \"linecolor\": \"white\", \"ticks\": \"\"}}, \"scene\": {\"xaxis\": {\"backgroundcolor\": \"#E5ECF6\", \"gridcolor\": \"white\", \"gridwidth\": 2, \"linecolor\": \"white\", \"showbackground\": true, \"ticks\": \"\", \"zerolinecolor\": \"white\"}, \"yaxis\": {\"backgroundcolor\": \"#E5ECF6\", \"gridcolor\": \"white\", \"gridwidth\": 2, \"linecolor\": \"white\", \"showbackground\": true, \"ticks\": \"\", \"zerolinecolor\": \"white\"}, \"zaxis\": {\"backgroundcolor\": \"#E5ECF6\", \"gridcolor\": \"white\", \"gridwidth\": 2, \"linecolor\": \"white\", \"showbackground\": true, \"ticks\": \"\", \"zerolinecolor\": \"white\"}}, \"shapedefaults\": {\"line\": {\"color\": \"#2a3f5f\"}}, \"ternary\": {\"aaxis\": {\"gridcolor\": \"white\", \"linecolor\": \"white\", \"ticks\": \"\"}, \"baxis\": {\"gridcolor\": \"white\", \"linecolor\": \"white\", \"ticks\": \"\"}, \"bgcolor\": \"#E5ECF6\", \"caxis\": {\"gridcolor\": \"white\", \"linecolor\": \"white\", \"ticks\": \"\"}}, \"title\": {\"x\": 0.05}, \"xaxis\": {\"automargin\": true, \"gridcolor\": \"white\", \"linecolor\": \"white\", \"ticks\": \"\", \"title\": {\"standoff\": 15}, \"zerolinecolor\": \"white\", \"zerolinewidth\": 2}, \"yaxis\": {\"automargin\": true, \"gridcolor\": \"white\", \"linecolor\": \"white\", \"ticks\": \"\", \"title\": {\"standoff\": 15}, \"zerolinecolor\": \"white\", \"zerolinewidth\": 2}}}, \"width\": 700, \"xaxis\": {\"title\": {\"text\": \"Epoch\"}}, \"yaxis\": {\"title\": {\"text\": \"Loss\"}}},\n",
              "                        {\"responsive\": true}\n",
              "                    ).then(function(){\n",
              "                            \n",
              "var gd = document.getElementById('78f12333-a3ee-4b8f-a5fd-8f251b6444de');\n",
              "var x = new MutationObserver(function (mutations, observer) {{\n",
              "        var display = window.getComputedStyle(gd).display;\n",
              "        if (!display || display === 'none') {{\n",
              "            console.log([gd, 'removed!']);\n",
              "            Plotly.purge(gd);\n",
              "            observer.disconnect();\n",
              "        }}\n",
              "}});\n",
              "\n",
              "// Listen for the removal of the full notebook cells\n",
              "var notebookContainer = gd.closest('#notebook-container');\n",
              "if (notebookContainer) {{\n",
              "    x.observe(notebookContainer, {childList: true});\n",
              "}}\n",
              "\n",
              "// Listen for the clearing of the current output cell\n",
              "var outputEl = gd.closest('.output');\n",
              "if (outputEl) {{\n",
              "    x.observe(outputEl, {childList: true});\n",
              "}}\n",
              "\n",
              "                        })\n",
              "                };\n",
              "                \n",
              "            </script>\n",
              "        </div>\n",
              "</body>\n",
              "</html>"
            ]
          },
          "metadata": {
            "tags": []
          }
        }
      ]
    },
    {
      "cell_type": "code",
      "metadata": {
        "id": "1l6h1ewwNH8H",
        "colab_type": "code",
        "colab": {
          "base_uri": "https://localhost:8080/",
          "height": 51
        },
        "outputId": "9e42b4fc-599c-4472-fb27-754db68ecf57"
      },
      "source": [
        "mse_nn, mae_nn = model.evaluate(X_val, y_val)\n",
        "print('Mean squared error on test data: ', mse_nn)"
      ],
      "execution_count": 184,
      "outputs": [
        {
          "output_type": "stream",
          "text": [
            "32/32 [==============================] - 0s 859us/step - loss: 0.0040 - mae: 0.0134\n",
            "Mean squared error on test data:  0.004021082539111376\n"
          ],
          "name": "stdout"
        }
      ]
    },
    {
      "cell_type": "markdown",
      "metadata": {
        "id": "FzL5CQORX9hl",
        "colab_type": "text"
      },
      "source": [
        "##predict"
      ]
    },
    {
      "cell_type": "code",
      "metadata": {
        "id": "-XYlblm_YINV",
        "colab_type": "code",
        "colab": {}
      },
      "source": [
        "test.head()"
      ],
      "execution_count": null,
      "outputs": []
    },
    {
      "cell_type": "code",
      "metadata": {
        "id": "QJZa9kR5YdjN",
        "colab_type": "code",
        "colab": {}
      },
      "source": [
        "predictions = model.predict(test)"
      ],
      "execution_count": null,
      "outputs": []
    },
    {
      "cell_type": "code",
      "metadata": {
        "id": "e3bclv1CYg0d",
        "colab_type": "code",
        "colab": {}
      },
      "source": [
        "predictions = predictions * 360"
      ],
      "execution_count": null,
      "outputs": []
    },
    {
      "cell_type": "code",
      "metadata": {
        "id": "7qZ-hVsUYkC9",
        "colab_type": "code",
        "colab": {}
      },
      "source": [
        "predictions"
      ],
      "execution_count": null,
      "outputs": []
    },
    {
      "cell_type": "code",
      "metadata": {
        "id": "zoRxXMgdYqkM",
        "colab_type": "code",
        "colab": {}
      },
      "source": [
        "answers = pd.DataFrame(predictions, columns=[\"xRot\"])\n",
        "answers[\"filename\"] = file_names"
      ],
      "execution_count": null,
      "outputs": []
    },
    {
      "cell_type": "code",
      "metadata": {
        "id": "mPOkoDt3b9ft",
        "colab_type": "code",
        "colab": {}
      },
      "source": [
        "answers.head()"
      ],
      "execution_count": null,
      "outputs": []
    },
    {
      "cell_type": "code",
      "metadata": {
        "id": "pNvVTKUwcAVN",
        "colab_type": "code",
        "colab": {}
      },
      "source": [
        "answers.to_csv(\"submission.csv\")"
      ],
      "execution_count": null,
      "outputs": []
    },
    {
      "cell_type": "code",
      "metadata": {
        "id": "WfX6BgsccJWO",
        "colab_type": "code",
        "colab": {}
      },
      "source": [
        "files.download(\"submission.csv\")"
      ],
      "execution_count": null,
      "outputs": []
    },
    {
      "cell_type": "code",
      "metadata": {
        "id": "8wQ5ejhccLd9",
        "colab_type": "code",
        "colab": {}
      },
      "source": [
        ""
      ],
      "execution_count": null,
      "outputs": []
    }
  ]
}